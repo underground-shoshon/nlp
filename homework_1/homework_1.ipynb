{
 "cells": [
  {
   "cell_type": "markdown",
   "metadata": {
    "deletable": true,
    "editable": true
   },
   "source": [
    "# Домашнее задание по анализу текстов"
   ]
  },
  {
   "cell_type": "markdown",
   "metadata": {
    "deletable": true,
    "editable": true
   },
   "source": [
    "## 1. Загрузить датасет."
   ]
  },
  {
   "cell_type": "markdown",
   "metadata": {
    "deletable": true,
    "editable": true
   },
   "source": [
    "Ну это я сделал."
   ]
  },
  {
   "cell_type": "markdown",
   "metadata": {
    "deletable": true,
    "editable": true
   },
   "source": [
    "## 2. Считать данные."
   ]
  },
  {
   "cell_type": "code",
   "execution_count": 1,
   "metadata": {
    "collapsed": false,
    "deletable": true,
    "editable": true
   },
   "outputs": [],
   "source": [
    "import numpy as np\n",
    "import pandas as pd"
   ]
  },
  {
   "cell_type": "code",
   "execution_count": 2,
   "metadata": {
    "collapsed": false,
    "deletable": true,
    "editable": true
   },
   "outputs": [
    {
     "data": {
      "text/html": [
       "<div>\n",
       "<table border=\"1\" class=\"dataframe\">\n",
       "  <thead>\n",
       "    <tr style=\"text-align: right;\">\n",
       "      <th></th>\n",
       "      <th>label</th>\n",
       "      <th>message</th>\n",
       "    </tr>\n",
       "  </thead>\n",
       "  <tbody>\n",
       "    <tr>\n",
       "      <th>0</th>\n",
       "      <td>ham</td>\n",
       "      <td>Go until jurong point, crazy.. Available only ...</td>\n",
       "    </tr>\n",
       "    <tr>\n",
       "      <th>1</th>\n",
       "      <td>ham</td>\n",
       "      <td>Ok lar... Joking wif u oni...</td>\n",
       "    </tr>\n",
       "    <tr>\n",
       "      <th>2</th>\n",
       "      <td>spam</td>\n",
       "      <td>Free entry in 2 a wkly comp to win FA Cup fina...</td>\n",
       "    </tr>\n",
       "    <tr>\n",
       "      <th>3</th>\n",
       "      <td>ham</td>\n",
       "      <td>U dun say so early hor... U c already then say...</td>\n",
       "    </tr>\n",
       "    <tr>\n",
       "      <th>4</th>\n",
       "      <td>ham</td>\n",
       "      <td>Nah I don't think he goes to usf, he lives aro...</td>\n",
       "    </tr>\n",
       "  </tbody>\n",
       "</table>\n",
       "</div>"
      ],
      "text/plain": [
       "  label                                            message\n",
       "0   ham  Go until jurong point, crazy.. Available only ...\n",
       "1   ham                      Ok lar... Joking wif u oni...\n",
       "2  spam  Free entry in 2 a wkly comp to win FA Cup fina...\n",
       "3   ham  U dun say so early hor... U c already then say...\n",
       "4   ham  Nah I don't think he goes to usf, he lives aro..."
      ]
     },
     "execution_count": 2,
     "metadata": {},
     "output_type": "execute_result"
    }
   ],
   "source": [
    "data = pd.read_table('SMSSpamCollection.txt', names = ['label', 'message'])\n",
    "data.head()"
   ]
  },
  {
   "cell_type": "markdown",
   "metadata": {
    "collapsed": false,
    "deletable": true,
    "editable": true
   },
   "source": [
    "Pandas сам смог определить, что разделителем служит табуляция."
   ]
  },
  {
   "cell_type": "markdown",
   "metadata": {
    "deletable": true,
    "editable": true
   },
   "source": [
    "## 3. Подготовить список меток и список сообщений."
   ]
  },
  {
   "cell_type": "code",
   "execution_count": 3,
   "metadata": {
    "collapsed": false,
    "deletable": true,
    "editable": true
   },
   "outputs": [],
   "source": [
    "labels = (data.label == 'spam').values.astype(int)\n",
    "messages = data.message.values"
   ]
  },
  {
   "cell_type": "markdown",
   "metadata": {
    "deletable": true,
    "editable": true
   },
   "source": [
    "## 4. Используя sklearn.feature_extraction.text.CountVectorizer со стандартными настройками, получить из списка текстов матрицу признаков X."
   ]
  },
  {
   "cell_type": "code",
   "execution_count": 4,
   "metadata": {
    "collapsed": false,
    "deletable": true,
    "editable": true
   },
   "outputs": [],
   "source": [
    "from sklearn.feature_extraction.text import CountVectorizer\n",
    "vectorizer = CountVectorizer()\n",
    "X = vectorizer.fit_transform(messages)"
   ]
  },
  {
   "cell_type": "markdown",
   "metadata": {
    "deletable": true,
    "editable": true
   },
   "source": [
    "## 5. Оценить качество классификации текстов методом логистической регрессии с помощью кросс-валидации."
   ]
  },
  {
   "cell_type": "code",
   "execution_count": 5,
   "metadata": {
    "collapsed": false,
    "deletable": true,
    "editable": true
   },
   "outputs": [
    {
     "data": {
      "text/plain": [
       "array([ 0.95890411,  0.89855072,  0.91549296,  0.95833333,  0.93706294,\n",
       "        0.91304348,  0.94444444,  0.92753623,  0.92198582,  0.95104895])"
      ]
     },
     "execution_count": 5,
     "metadata": {},
     "output_type": "execute_result"
    }
   ],
   "source": [
    "from sklearn.model_selection import cross_val_score\n",
    "from sklearn.metrics import f1_score, make_scorer\n",
    "from sklearn.linear_model import LogisticRegression\n",
    "\n",
    "logreg = LogisticRegression()\n",
    "cross_val_score(logreg, X, labels, cv = 10, scoring = make_scorer(f1_score))"
   ]
  },
  {
   "cell_type": "markdown",
   "metadata": {
    "deletable": true,
    "editable": true
   },
   "source": [
    "## 6. Обучить классификатор на всей выборке и спрогнозировать с его помощью класс для нескольких сообщений."
   ]
  },
  {
   "cell_type": "code",
   "execution_count": 6,
   "metadata": {
    "collapsed": false,
    "deletable": true,
    "editable": true
   },
   "outputs": [
    {
     "name": "stderr",
     "output_type": "stream",
     "text": [
      "/home/cugel/anaconda3/lib/python3.6/site-packages/sklearn/utils/deprecation.py:70: DeprecationWarning: Function transform is deprecated; Support to use estimators as feature selectors will be removed in version 0.19. Use SelectFromModel instead.\n",
      "  warnings.warn(msg, category=DeprecationWarning)\n"
     ]
    },
    {
     "data": {
      "text/plain": [
       "array([1, 1, 0, 0, 0])"
      ]
     },
     "execution_count": 6,
     "metadata": {},
     "output_type": "execute_result"
    }
   ],
   "source": [
    "logreg.fit_transform(X, labels)\n",
    "test_messages = [\"FreeMsg: Txt: CALL to No: 86888 & claim your reward of 3 hours talk time to use from your phone now! Subscribe6GB\",\n",
    "                 \"FreeMsg: Txt: claim your reward of 3 hours talk time\",\n",
    "                 \"Have you visited the last lecture on physics?\",\n",
    "                 \"Have you visited the last lecture on physics? Just buy this book and you will have all materials! Only 99$\",\n",
    "                 \"Only 99$\"]\n",
    "logreg.predict(vectorizer.transform(test_messages))"
   ]
  },
  {
   "cell_type": "markdown",
   "metadata": {
    "collapsed": true
   },
   "source": [
    "## 7. Попробовать использовать в качестве признаков биграммы и триграммы, по отдельности и вместе с униграммами."
   ]
  },
  {
   "cell_type": "code",
   "execution_count": 7,
   "metadata": {
    "collapsed": false
   },
   "outputs": [
    {
     "name": "stdout",
     "output_type": "stream",
     "text": [
      "unigram: 0.96 0.9 0.92 0.96 0.94 0.91 0.94 0.93 0.92 0.95\n",
      "bigram: 0.83 0.81 0.84 0.84 0.85 0.83 0.77 0.79 0.82 0.85\n",
      "trigram: 0.75 0.72 0.72 0.75 0.73 0.72 0.7 0.71 0.71 0.75\n",
      "all together: 0.95 0.89 0.93 0.93 0.94 0.92 0.92 0.91 0.91 0.95\n"
     ]
    }
   ],
   "source": [
    "def different_ngram_test(estimator, data, labels):\n",
    "    unigram_vectorizer = CountVectorizer()\n",
    "    bigram_vectorizer = CountVectorizer(ngram_range = (2,2))\n",
    "    trigram_vectorizer = CountVectorizer(ngram_range = (3,3))\n",
    "    multigram_vectorizer = CountVectorizer(ngram_range = (1,3))\n",
    "\n",
    "    X1 = unigram_vectorizer.fit_transform(data)\n",
    "    X2 = bigram_vectorizer.fit_transform(data)\n",
    "    X3 = trigram_vectorizer.fit_transform(data)\n",
    "    X123 = multigram_vectorizer.fit_transform(data)\n",
    "\n",
    "    for X, vectorizer in zip((X1, X2, X3, X123), ('unigram', 'bigram', 'trigram', 'all together')):\n",
    "        score = cross_val_score(estimator, X, labels, cv = 10, scoring = make_scorer(f1_score))\n",
    "        result = ' '.join(map(lambda x: '{:.2}'.format(x), score))\n",
    "        print('{}: {}'.format(vectorizer, result))\n",
    "\n",
    "different_ngram_test(LogisticRegression(), messages, labels)"
   ]
  },
  {
   "cell_type": "markdown",
   "metadata": {},
   "source": [
    "Завернул всё в одну функцию, чтобы не писать несколько раз."
   ]
  },
  {
   "cell_type": "markdown",
   "metadata": {},
   "source": [
    "## 8. Провести аналогичный эксперимент с наивным Байесом."
   ]
  },
  {
   "cell_type": "code",
   "execution_count": 8,
   "metadata": {
    "collapsed": false
   },
   "outputs": [
    {
     "name": "stdout",
     "output_type": "stream",
     "text": [
      "unigram: 0.94 0.92 0.92 0.93 0.91 0.92 0.93 0.94 0.9 0.97\n",
      "bigram: 0.68 0.65 0.64 0.63 0.66 0.65 0.63 0.61 0.63 0.67\n",
      "trigram: 0.39 0.38 0.39 0.36 0.39 0.38 0.37 0.37 0.37 0.38\n",
      "all together: 0.93 0.91 0.9 0.89 0.86 0.87 0.87 0.88 0.86 0.92\n"
     ]
    }
   ],
   "source": [
    "from sklearn.naive_bayes import MultinomialNB\n",
    "\n",
    "different_ngram_test(MultinomialNB(), messages, labels)"
   ]
  },
  {
   "cell_type": "markdown",
   "metadata": {},
   "source": [
    "Внимание на ухудшение качества на биграммах и триграммах обратил."
   ]
  },
  {
   "cell_type": "markdown",
   "metadata": {},
   "source": [
    "## 9.  Попробовать использовать в качестве признаков tf-idf."
   ]
  },
  {
   "cell_type": "code",
   "execution_count": 9,
   "metadata": {
    "collapsed": false
   },
   "outputs": [
    {
     "data": {
      "text/plain": [
       "array([ 0.87407407,  0.84210526,  0.83076923,  0.88888889,  0.85496183,\n",
       "        0.84615385,  0.82170543,  0.8372093 ,  0.8372093 ,  0.89552239])"
      ]
     },
     "execution_count": 9,
     "metadata": {},
     "output_type": "execute_result"
    }
   ],
   "source": [
    "from sklearn.feature_extraction.text import TfidfVectorizer\n",
    "\n",
    "tfidf_vectorizer = TfidfVectorizer()\n",
    "X_tfidf = tfidf_vectorizer.fit_transform(messages)\n",
    "logreg = LogisticRegression()\n",
    "cross_val_score(logreg, X_tfidf, labels, cv = 10, scoring = make_scorer(f1_score))"
   ]
  },
  {
   "cell_type": "code",
   "execution_count": 10,
   "metadata": {
    "collapsed": false
   },
   "outputs": [
    {
     "name": "stderr",
     "output_type": "stream",
     "text": [
      "/home/cugel/anaconda3/lib/python3.6/site-packages/sklearn/utils/deprecation.py:70: DeprecationWarning: Function transform is deprecated; Support to use estimators as feature selectors will be removed in version 0.19. Use SelectFromModel instead.\n",
      "  warnings.warn(msg, category=DeprecationWarning)\n"
     ]
    },
    {
     "data": {
      "text/plain": [
       "array([1, 1, 0, 0, 0])"
      ]
     },
     "execution_count": 10,
     "metadata": {},
     "output_type": "execute_result"
    }
   ],
   "source": [
    "logreg.fit_transform(X, labels)\n",
    "test_messages = [\"FreeMsg: Txt: CALL to No: 86888 & claim your reward of 3 hours talk time to use from your phone now! Subscribe6GB\",\n",
    "                 \"FreeMsg: Txt: claim your reward of 3 hours talk time\",\n",
    "                 \"Have you visited the last lecture on physics?\",\n",
    "                 \"Have you visited the last lecture on physics? Just buy this book and you will have all materials! Only 99$\",\n",
    "                 \"Only 99$\"]\n",
    "logreg.predict(vectorizer.transform(test_messages))"
   ]
  },
  {
   "cell_type": "markdown",
   "metadata": {},
   "source": [
    "В целом качество упало."
   ]
  },
  {
   "cell_type": "markdown",
   "metadata": {},
   "source": [
    "## *10. Попробовать увеличить значения на кросс-валидации."
   ]
  },
  {
   "cell_type": "markdown",
   "metadata": {},
   "source": [
    "Неплохие результаты дают бинаризация и использование другого токенайзера."
   ]
  },
  {
   "cell_type": "code",
   "execution_count": 11,
   "metadata": {
    "collapsed": false
   },
   "outputs": [
    {
     "name": "stdout",
     "output_type": "stream",
     "text": [
      "[ 0.95890411  0.89855072  0.91549296  0.95833333  0.93706294  0.91304348\n",
      "  0.94444444  0.92753623  0.92198582  0.95104895]\n",
      "[ 0.97297297  0.92086331  0.92857143  0.95833333  0.92957746  0.92086331\n",
      "  0.95104895  0.91970803  0.92086331  0.95035461]\n",
      "[ 0.93706294  0.93617021  0.94444444  0.97260274  0.92307692  0.91549296\n",
      "  0.94366197  0.93617021  0.93793103  0.95104895]\n",
      "[ 0.93617021  0.92857143  0.94520548  0.97260274  0.94444444  0.92086331\n",
      "  0.95833333  0.93617021  0.93706294  0.95774648]\n"
     ]
    }
   ],
   "source": [
    "from nltk.tokenize import TweetTokenizer\n",
    "\n",
    "binary_vectorizer = CountVectorizer(binary = True)\n",
    "tweet_vectorizer = CountVectorizer(tokenizer=TweetTokenizer().tokenize)\n",
    "binary_tweet_vectorizer = CountVectorizer(tokenizer=TweetTokenizer().tokenize, binary = True)\n",
    "\n",
    "X_binary = binary_vectorizer.fit_transform(messages)\n",
    "X_tweet = tweet_vectorizer.fit_transform(messages)\n",
    "X_binary_tweet = binary_tweet_vectorizer.fit_transform(messages)\n",
    "\n",
    "\n",
    "print(cross_val_score(logreg, X, labels, cv = 10, scoring = make_scorer(f1_score)))\n",
    "print(cross_val_score(logreg, X_binary, labels, cv = 10, scoring = make_scorer(f1_score)))\n",
    "print(cross_val_score(logreg, X_tweet, labels, cv = 10, scoring = make_scorer(f1_score)))\n",
    "print(cross_val_score(logreg, X_binary_tweet, labels, cv = 10, scoring = make_scorer(f1_score)))"
   ]
  },
  {
   "cell_type": "markdown",
   "metadata": {},
   "source": [
    "## 11. Наблюдения и выводы."
   ]
  },
  {
   "cell_type": "markdown",
   "metadata": {},
   "source": [
    "В первую очередь можно заметить, что сама концепция мешка слов работает в такой задаче достаточно неплохо. С таким набором параметров наши классификаторы почти всегда верно классифицировали обычные сообщения, а ошибались на спаме:"
   ]
  },
  {
   "cell_type": "code",
   "execution_count": 12,
   "metadata": {
    "collapsed": false
   },
   "outputs": [
    {
     "name": "stderr",
     "output_type": "stream",
     "text": [
      "/home/cugel/anaconda3/lib/python3.6/site-packages/sklearn/utils/deprecation.py:70: DeprecationWarning: Function transform is deprecated; Support to use estimators as feature selectors will be removed in version 0.19. Use SelectFromModel instead.\n",
      "  warnings.warn(msg, category=DeprecationWarning)\n"
     ]
    },
    {
     "data": {
      "text/html": [
       "<div>\n",
       "<table border=\"1\" class=\"dataframe\">\n",
       "  <thead>\n",
       "    <tr style=\"text-align: right;\">\n",
       "      <th></th>\n",
       "      <th>label</th>\n",
       "      <th>message</th>\n",
       "    </tr>\n",
       "  </thead>\n",
       "  <tbody>\n",
       "    <tr>\n",
       "      <th>501</th>\n",
       "      <td>ham</td>\n",
       "      <td>Fighting with the world is easy, u either win ...</td>\n",
       "    </tr>\n",
       "    <tr>\n",
       "      <th>518</th>\n",
       "      <td>spam</td>\n",
       "      <td>Your credits have been topped up for http://ww...</td>\n",
       "    </tr>\n",
       "    <tr>\n",
       "      <th>529</th>\n",
       "      <td>spam</td>\n",
       "      <td>You will recieve your tone within the next 24h...</td>\n",
       "    </tr>\n",
       "    <tr>\n",
       "      <th>531</th>\n",
       "      <td>spam</td>\n",
       "      <td>PRIVATE! Your 2003 Account Statement for 07815...</td>\n",
       "    </tr>\n",
       "    <tr>\n",
       "      <th>541</th>\n",
       "      <td>spam</td>\n",
       "      <td>from www.Applausestore.com MonthlySubscription...</td>\n",
       "    </tr>\n",
       "    <tr>\n",
       "      <th>592</th>\n",
       "      <td>spam</td>\n",
       "      <td>You have been specially selected to receive a ...</td>\n",
       "    </tr>\n",
       "    <tr>\n",
       "      <th>593</th>\n",
       "      <td>spam</td>\n",
       "      <td>PRIVATE! Your 2003 Account Statement for 07753...</td>\n",
       "    </tr>\n",
       "    <tr>\n",
       "      <th>598</th>\n",
       "      <td>spam</td>\n",
       "      <td>You have an important customer service announc...</td>\n",
       "    </tr>\n",
       "    <tr>\n",
       "      <th>607</th>\n",
       "      <td>spam</td>\n",
       "      <td>XCLUSIVE@CLUBSAISAI 2MOROW 28/5 SOIREE SPECIAL...</td>\n",
       "    </tr>\n",
       "    <tr>\n",
       "      <th>648</th>\n",
       "      <td>spam</td>\n",
       "      <td>PRIVATE! Your 2003 Account Statement for shows...</td>\n",
       "    </tr>\n",
       "    <tr>\n",
       "      <th>660</th>\n",
       "      <td>spam</td>\n",
       "      <td>88800 and 89034 are premium phone services cal...</td>\n",
       "    </tr>\n",
       "    <tr>\n",
       "      <th>672</th>\n",
       "      <td>spam</td>\n",
       "      <td>SMS. ac sun0819 posts HELLO:\"You seem cool, wa...</td>\n",
       "    </tr>\n",
       "    <tr>\n",
       "      <th>684</th>\n",
       "      <td>spam</td>\n",
       "      <td>Hi I'm sue. I am 20 years old and work as a la...</td>\n",
       "    </tr>\n",
       "    <tr>\n",
       "      <th>690</th>\n",
       "      <td>spam</td>\n",
       "      <td>&lt;Forwarded from 448712404000&gt;Please CALL 08712...</td>\n",
       "    </tr>\n",
       "    <tr>\n",
       "      <th>713</th>\n",
       "      <td>spam</td>\n",
       "      <td>08714712388 between 10am-7pm Cost 10p</td>\n",
       "    </tr>\n",
       "    <tr>\n",
       "      <th>717</th>\n",
       "      <td>spam</td>\n",
       "      <td>+449071512431 URGENT! This is the 2nd attempt ...</td>\n",
       "    </tr>\n",
       "    <tr>\n",
       "      <th>731</th>\n",
       "      <td>spam</td>\n",
       "      <td>Email AlertFrom: Jeri StewartSize: 2KBSubject:...</td>\n",
       "    </tr>\n",
       "    <tr>\n",
       "      <th>751</th>\n",
       "      <td>spam</td>\n",
       "      <td>Do you realize that in about 40 years, we'll h...</td>\n",
       "    </tr>\n",
       "    <tr>\n",
       "      <th>752</th>\n",
       "      <td>spam</td>\n",
       "      <td>You have an important customer service announc...</td>\n",
       "    </tr>\n",
       "    <tr>\n",
       "      <th>761</th>\n",
       "      <td>spam</td>\n",
       "      <td>Romantic Paris. 2 nights, 2 flights from £79 B...</td>\n",
       "    </tr>\n",
       "    <tr>\n",
       "      <th>763</th>\n",
       "      <td>spam</td>\n",
       "      <td>Urgent Ur £500 guaranteed award is still uncla...</td>\n",
       "    </tr>\n",
       "    <tr>\n",
       "      <th>766</th>\n",
       "      <td>spam</td>\n",
       "      <td>UR awarded a City Break and could WIN a £200 S...</td>\n",
       "    </tr>\n",
       "    <tr>\n",
       "      <th>784</th>\n",
       "      <td>spam</td>\n",
       "      <td>You have an important customer service announc...</td>\n",
       "    </tr>\n",
       "    <tr>\n",
       "      <th>788</th>\n",
       "      <td>spam</td>\n",
       "      <td>Ever thought about living a good life with a p...</td>\n",
       "    </tr>\n",
       "    <tr>\n",
       "      <th>815</th>\n",
       "      <td>spam</td>\n",
       "      <td>U were outbid by simonwatson5120 on the Shinco...</td>\n",
       "    </tr>\n",
       "    <tr>\n",
       "      <th>823</th>\n",
       "      <td>spam</td>\n",
       "      <td>SMSSERVICES. for yourinclusive text credits, p...</td>\n",
       "    </tr>\n",
       "    <tr>\n",
       "      <th>868</th>\n",
       "      <td>spam</td>\n",
       "      <td>PRIVATE! Your 2003 Account Statement for 07808...</td>\n",
       "    </tr>\n",
       "    <tr>\n",
       "      <th>869</th>\n",
       "      <td>spam</td>\n",
       "      <td>Hello. We need some posh birds and chaps to us...</td>\n",
       "    </tr>\n",
       "    <tr>\n",
       "      <th>881</th>\n",
       "      <td>spam</td>\n",
       "      <td>Reminder: You have not downloaded the content ...</td>\n",
       "    </tr>\n",
       "    <tr>\n",
       "      <th>943</th>\n",
       "      <td>spam</td>\n",
       "      <td>How about getting in touch with folks waiting ...</td>\n",
       "    </tr>\n",
       "    <tr>\n",
       "      <th>...</th>\n",
       "      <td>...</td>\n",
       "      <td>...</td>\n",
       "    </tr>\n",
       "    <tr>\n",
       "      <th>4821</th>\n",
       "      <td>spam</td>\n",
       "      <td>Check Out Choose Your Babe Videos @ sms.shsex....</td>\n",
       "    </tr>\n",
       "    <tr>\n",
       "      <th>4841</th>\n",
       "      <td>spam</td>\n",
       "      <td>PRIVATE! Your 2003 Account Statement for shows...</td>\n",
       "    </tr>\n",
       "    <tr>\n",
       "      <th>4864</th>\n",
       "      <td>spam</td>\n",
       "      <td>Bored housewives! Chat n date now! 0871750.77....</td>\n",
       "    </tr>\n",
       "    <tr>\n",
       "      <th>4906</th>\n",
       "      <td>spam</td>\n",
       "      <td>Warner Village 83118 C Colin Farrell in SWAT t...</td>\n",
       "    </tr>\n",
       "    <tr>\n",
       "      <th>4914</th>\n",
       "      <td>spam</td>\n",
       "      <td>Goal! Arsenal 4 (Henry, 7 v Liverpool 2 Henry ...</td>\n",
       "    </tr>\n",
       "    <tr>\n",
       "      <th>4930</th>\n",
       "      <td>spam</td>\n",
       "      <td>Got what it takes 2 take part in the WRC Rally...</td>\n",
       "    </tr>\n",
       "    <tr>\n",
       "      <th>4949</th>\n",
       "      <td>spam</td>\n",
       "      <td>Hi this is Amy, we will be sending you a free ...</td>\n",
       "    </tr>\n",
       "    <tr>\n",
       "      <th>4965</th>\n",
       "      <td>spam</td>\n",
       "      <td>Dear Voucher holder Have your next meal on us....</td>\n",
       "    </tr>\n",
       "    <tr>\n",
       "      <th>5028</th>\n",
       "      <td>spam</td>\n",
       "      <td>PRIVATE! Your 2003 Account Statement for shows...</td>\n",
       "    </tr>\n",
       "    <tr>\n",
       "      <th>5030</th>\n",
       "      <td>spam</td>\n",
       "      <td>I'd like to tell you my deepest darkest fantas...</td>\n",
       "    </tr>\n",
       "    <tr>\n",
       "      <th>5037</th>\n",
       "      <td>spam</td>\n",
       "      <td>You won't believe it but it's true. It's Incre...</td>\n",
       "    </tr>\n",
       "    <tr>\n",
       "      <th>5068</th>\n",
       "      <td>spam</td>\n",
       "      <td>83039 62735=£450 UK Break AccommodationVoucher...</td>\n",
       "    </tr>\n",
       "    <tr>\n",
       "      <th>5073</th>\n",
       "      <td>spam</td>\n",
       "      <td>WIN a £200 Shopping spree every WEEK Starting ...</td>\n",
       "    </tr>\n",
       "    <tr>\n",
       "      <th>5110</th>\n",
       "      <td>spam</td>\n",
       "      <td>You have 1 new message. Please call 08715205273</td>\n",
       "    </tr>\n",
       "    <tr>\n",
       "      <th>5120</th>\n",
       "      <td>spam</td>\n",
       "      <td>PRIVATE! Your 2003 Account Statement for 078</td>\n",
       "    </tr>\n",
       "    <tr>\n",
       "      <th>5150</th>\n",
       "      <td>ham</td>\n",
       "      <td>Happy new year to u and ur family...may this n...</td>\n",
       "    </tr>\n",
       "    <tr>\n",
       "      <th>5228</th>\n",
       "      <td>spam</td>\n",
       "      <td>PRIVATE! Your 2003 Account Statement for &lt;fone...</td>\n",
       "    </tr>\n",
       "    <tr>\n",
       "      <th>5365</th>\n",
       "      <td>spam</td>\n",
       "      <td>Camera - You are awarded a SiPix Digital Camer...</td>\n",
       "    </tr>\n",
       "    <tr>\n",
       "      <th>5368</th>\n",
       "      <td>spam</td>\n",
       "      <td>IMPORTANT MESSAGE. This is a final contact att...</td>\n",
       "    </tr>\n",
       "    <tr>\n",
       "      <th>5370</th>\n",
       "      <td>spam</td>\n",
       "      <td>dating:i have had two of these. Only started a...</td>\n",
       "    </tr>\n",
       "    <tr>\n",
       "      <th>5377</th>\n",
       "      <td>spam</td>\n",
       "      <td>The current leading bid is 151. To pause this ...</td>\n",
       "    </tr>\n",
       "    <tr>\n",
       "      <th>5381</th>\n",
       "      <td>spam</td>\n",
       "      <td>You have 1 new message. Call 0207-083-6089</td>\n",
       "    </tr>\n",
       "    <tr>\n",
       "      <th>5449</th>\n",
       "      <td>spam</td>\n",
       "      <td>Latest News! Police station toilet stolen, cop...</td>\n",
       "    </tr>\n",
       "    <tr>\n",
       "      <th>5466</th>\n",
       "      <td>spam</td>\n",
       "      <td>http//tms. widelive.com/index. wml?id=820554ad...</td>\n",
       "    </tr>\n",
       "    <tr>\n",
       "      <th>5501</th>\n",
       "      <td>spam</td>\n",
       "      <td>PRIVATE! Your 2003 Account Statement for 07808...</td>\n",
       "    </tr>\n",
       "    <tr>\n",
       "      <th>5524</th>\n",
       "      <td>spam</td>\n",
       "      <td>You are awarded a SiPix Digital Camera! call 0...</td>\n",
       "    </tr>\n",
       "    <tr>\n",
       "      <th>5526</th>\n",
       "      <td>spam</td>\n",
       "      <td>PRIVATE! Your 2003 Account Statement for shows...</td>\n",
       "    </tr>\n",
       "    <tr>\n",
       "      <th>5537</th>\n",
       "      <td>spam</td>\n",
       "      <td>Want explicit SEX in 30 secs? Ring 02073162414...</td>\n",
       "    </tr>\n",
       "    <tr>\n",
       "      <th>5540</th>\n",
       "      <td>spam</td>\n",
       "      <td>ASKED 3MOBILE IF 0870 CHATLINES INCLU IN FREE ...</td>\n",
       "    </tr>\n",
       "    <tr>\n",
       "      <th>5567</th>\n",
       "      <td>spam</td>\n",
       "      <td>This is the 2nd time we have tried 2 contact u...</td>\n",
       "    </tr>\n",
       "  </tbody>\n",
       "</table>\n",
       "<p>241 rows × 2 columns</p>\n",
       "</div>"
      ],
      "text/plain": [
       "     label                                            message\n",
       "501    ham  Fighting with the world is easy, u either win ...\n",
       "518   spam  Your credits have been topped up for http://ww...\n",
       "529   spam  You will recieve your tone within the next 24h...\n",
       "531   spam  PRIVATE! Your 2003 Account Statement for 07815...\n",
       "541   spam  from www.Applausestore.com MonthlySubscription...\n",
       "592   spam  You have been specially selected to receive a ...\n",
       "593   spam  PRIVATE! Your 2003 Account Statement for 07753...\n",
       "598   spam  You have an important customer service announc...\n",
       "607   spam  XCLUSIVE@CLUBSAISAI 2MOROW 28/5 SOIREE SPECIAL...\n",
       "648   spam  PRIVATE! Your 2003 Account Statement for shows...\n",
       "660   spam  88800 and 89034 are premium phone services cal...\n",
       "672   spam  SMS. ac sun0819 posts HELLO:\"You seem cool, wa...\n",
       "684   spam  Hi I'm sue. I am 20 years old and work as a la...\n",
       "690   spam  <Forwarded from 448712404000>Please CALL 08712...\n",
       "713   spam              08714712388 between 10am-7pm Cost 10p\n",
       "717   spam  +449071512431 URGENT! This is the 2nd attempt ...\n",
       "731   spam  Email AlertFrom: Jeri StewartSize: 2KBSubject:...\n",
       "751   spam  Do you realize that in about 40 years, we'll h...\n",
       "752   spam  You have an important customer service announc...\n",
       "761   spam  Romantic Paris. 2 nights, 2 flights from £79 B...\n",
       "763   spam  Urgent Ur £500 guaranteed award is still uncla...\n",
       "766   spam  UR awarded a City Break and could WIN a £200 S...\n",
       "784   spam  You have an important customer service announc...\n",
       "788   spam  Ever thought about living a good life with a p...\n",
       "815   spam  U were outbid by simonwatson5120 on the Shinco...\n",
       "823   spam  SMSSERVICES. for yourinclusive text credits, p...\n",
       "868   spam  PRIVATE! Your 2003 Account Statement for 07808...\n",
       "869   spam  Hello. We need some posh birds and chaps to us...\n",
       "881   spam  Reminder: You have not downloaded the content ...\n",
       "943   spam  How about getting in touch with folks waiting ...\n",
       "...    ...                                                ...\n",
       "4821  spam  Check Out Choose Your Babe Videos @ sms.shsex....\n",
       "4841  spam  PRIVATE! Your 2003 Account Statement for shows...\n",
       "4864  spam  Bored housewives! Chat n date now! 0871750.77....\n",
       "4906  spam  Warner Village 83118 C Colin Farrell in SWAT t...\n",
       "4914  spam  Goal! Arsenal 4 (Henry, 7 v Liverpool 2 Henry ...\n",
       "4930  spam  Got what it takes 2 take part in the WRC Rally...\n",
       "4949  spam  Hi this is Amy, we will be sending you a free ...\n",
       "4965  spam  Dear Voucher holder Have your next meal on us....\n",
       "5028  spam  PRIVATE! Your 2003 Account Statement for shows...\n",
       "5030  spam  I'd like to tell you my deepest darkest fantas...\n",
       "5037  spam  You won't believe it but it's true. It's Incre...\n",
       "5068  spam  83039 62735=£450 UK Break AccommodationVoucher...\n",
       "5073  spam  WIN a £200 Shopping spree every WEEK Starting ...\n",
       "5110  spam    You have 1 new message. Please call 08715205273\n",
       "5120  spam       PRIVATE! Your 2003 Account Statement for 078\n",
       "5150   ham  Happy new year to u and ur family...may this n...\n",
       "5228  spam  PRIVATE! Your 2003 Account Statement for <fone...\n",
       "5365  spam  Camera - You are awarded a SiPix Digital Camer...\n",
       "5368  spam  IMPORTANT MESSAGE. This is a final contact att...\n",
       "5370  spam  dating:i have had two of these. Only started a...\n",
       "5377  spam  The current leading bid is 151. To pause this ...\n",
       "5381  spam         You have 1 new message. Call 0207-083-6089\n",
       "5449  spam  Latest News! Police station toilet stolen, cop...\n",
       "5466  spam  http//tms. widelive.com/index. wml?id=820554ad...\n",
       "5501  spam  PRIVATE! Your 2003 Account Statement for 07808...\n",
       "5524  spam  You are awarded a SiPix Digital Camera! call 0...\n",
       "5526  spam  PRIVATE! Your 2003 Account Statement for shows...\n",
       "5537  spam  Want explicit SEX in 30 secs? Ring 02073162414...\n",
       "5540  spam  ASKED 3MOBILE IF 0870 CHATLINES INCLU IN FREE ...\n",
       "5567  spam  This is the 2nd time we have tried 2 contact u...\n",
       "\n",
       "[241 rows x 2 columns]"
      ]
     },
     "execution_count": 12,
     "metadata": {},
     "output_type": "execute_result"
    }
   ],
   "source": [
    "vectorizer = CountVectorizer()\n",
    "X1 = vectorizer.fit_transform(messages[:500])\n",
    "logreg = LogisticRegression()\n",
    "logreg.fit_transform(X1, labels[:500])\n",
    "\n",
    "X2 = vectorizer.transform(messages)\n",
    "predicted_labels = logreg.predict(X2)\n",
    "wrong_classified_messages = data[labels != predicted_labels]\n",
    "wrong_classified_messages\n"
   ]
  },
  {
   "cell_type": "code",
   "execution_count": 13,
   "metadata": {
    "collapsed": false
   },
   "outputs": [
    {
     "name": "stdout",
     "output_type": "stream",
     "text": [
      "(13, 2)\n"
     ]
    },
    {
     "data": {
      "text/html": [
       "<div>\n",
       "<table border=\"1\" class=\"dataframe\">\n",
       "  <thead>\n",
       "    <tr style=\"text-align: right;\">\n",
       "      <th></th>\n",
       "      <th>label</th>\n",
       "      <th>message</th>\n",
       "    </tr>\n",
       "  </thead>\n",
       "  <tbody>\n",
       "    <tr>\n",
       "      <th>501</th>\n",
       "      <td>ham</td>\n",
       "      <td>Fighting with the world is easy, u either win ...</td>\n",
       "    </tr>\n",
       "    <tr>\n",
       "      <th>1353</th>\n",
       "      <td>ham</td>\n",
       "      <td>Let Ur Heart Be Ur Compass Ur Mind Ur Map Ur S...</td>\n",
       "    </tr>\n",
       "    <tr>\n",
       "      <th>1384</th>\n",
       "      <td>ham</td>\n",
       "      <td>Please reserve ticket on saturday eve from che...</td>\n",
       "    </tr>\n",
       "    <tr>\n",
       "      <th>1459</th>\n",
       "      <td>ham</td>\n",
       "      <td>Fighting with the world is easy, u either win ...</td>\n",
       "    </tr>\n",
       "    <tr>\n",
       "      <th>1721</th>\n",
       "      <td>ham</td>\n",
       "      <td>Fighting with the world is easy, u either win ...</td>\n",
       "    </tr>\n",
       "    <tr>\n",
       "      <th>1866</th>\n",
       "      <td>ham</td>\n",
       "      <td>Call to the number which is available in appoi...</td>\n",
       "    </tr>\n",
       "    <tr>\n",
       "      <th>2379</th>\n",
       "      <td>ham</td>\n",
       "      <td>Hi, Mobile no.  &amp;lt;#&amp;gt;  has added you in th...</td>\n",
       "    </tr>\n",
       "    <tr>\n",
       "      <th>3738</th>\n",
       "      <td>ham</td>\n",
       "      <td>Plz note: if anyone calling from a mobile Co. ...</td>\n",
       "    </tr>\n",
       "    <tr>\n",
       "      <th>4222</th>\n",
       "      <td>ham</td>\n",
       "      <td>Plz note: if anyone calling from a mobile Co. ...</td>\n",
       "    </tr>\n",
       "    <tr>\n",
       "      <th>4547</th>\n",
       "      <td>ham</td>\n",
       "      <td>Never try alone to take the weight of a tear t...</td>\n",
       "    </tr>\n",
       "    <tr>\n",
       "      <th>4729</th>\n",
       "      <td>ham</td>\n",
       "      <td>I (Career Tel) have added u as a contact on IN...</td>\n",
       "    </tr>\n",
       "    <tr>\n",
       "      <th>4773</th>\n",
       "      <td>ham</td>\n",
       "      <td>Hi, Mobile no.  &amp;lt;#&amp;gt;  has added you in th...</td>\n",
       "    </tr>\n",
       "    <tr>\n",
       "      <th>5150</th>\n",
       "      <td>ham</td>\n",
       "      <td>Happy new year to u and ur family...may this n...</td>\n",
       "    </tr>\n",
       "  </tbody>\n",
       "</table>\n",
       "</div>"
      ],
      "text/plain": [
       "     label                                            message\n",
       "501    ham  Fighting with the world is easy, u either win ...\n",
       "1353   ham  Let Ur Heart Be Ur Compass Ur Mind Ur Map Ur S...\n",
       "1384   ham  Please reserve ticket on saturday eve from che...\n",
       "1459   ham  Fighting with the world is easy, u either win ...\n",
       "1721   ham  Fighting with the world is easy, u either win ...\n",
       "1866   ham  Call to the number which is available in appoi...\n",
       "2379   ham  Hi, Mobile no.  &lt;#&gt;  has added you in th...\n",
       "3738   ham  Plz note: if anyone calling from a mobile Co. ...\n",
       "4222   ham  Plz note: if anyone calling from a mobile Co. ...\n",
       "4547   ham  Never try alone to take the weight of a tear t...\n",
       "4729   ham  I (Career Tel) have added u as a contact on IN...\n",
       "4773   ham  Hi, Mobile no.  &lt;#&gt;  has added you in th...\n",
       "5150   ham  Happy new year to u and ur family...may this n..."
      ]
     },
     "execution_count": 13,
     "metadata": {},
     "output_type": "execute_result"
    }
   ],
   "source": [
    "not_spam = wrong_classified_messages[wrong_classified_messages.label != 'spam']\n",
    "print(not_spam.shape)\n",
    "not_spam"
   ]
  },
  {
   "cell_type": "markdown",
   "metadata": {},
   "source": [
    "(Тут можно заметить, что в данных встречались повторы; возможно, так и должно быть. Например, несколько людей кого-нибудь цитировали, либо же какой-нибудь сервис отправляет своим пользователям однотипные сообщения, которые эти пользователи спамом не считают, как например: \"Hi, Mobile no.  &lt;#&gt;  has added you in their contact list on www.fullonsms.com It s a great place to send free sms to people For more visit fullonsms.com\". Тут я бы с ними не согласился.)\n",
    "\n",
    "Вероятно, если увеличить штраф за неправильную классификацию спама, результаты будут получше.\n",
    "\n",
    "Наконец, если использовать не только частоты слов, но и другие признаки, такие как, например, наличие ссылки в сообщении, можно также повысить качество работы классификатора. Но это уже эвристики."
   ]
  },
  {
   "cell_type": "code",
   "execution_count": null,
   "metadata": {
    "collapsed": true
   },
   "outputs": [],
   "source": []
  }
 ],
 "metadata": {
  "kernelspec": {
   "display_name": "Python 3",
   "language": "python",
   "name": "python3"
  },
  "language_info": {
   "codemirror_mode": {
    "name": "ipython",
    "version": 3
   },
   "file_extension": ".py",
   "mimetype": "text/x-python",
   "name": "python",
   "nbconvert_exporter": "python",
   "pygments_lexer": "ipython3",
   "version": "3.6.0"
  }
 },
 "nbformat": 4,
 "nbformat_minor": 0
}
